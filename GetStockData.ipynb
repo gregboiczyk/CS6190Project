{
 "cells": [
  {
   "cell_type": "code",
   "execution_count": 7,
   "metadata": {},
   "outputs": [],
   "source": [
    "import yfinance as yf\n",
    "import csv\n",
    "import numpy as np\n",
    "import pandas as pd\n",
    "import matplotlib.pyplot as plt\n",
    "from functools import reduce"
   ]
  },
  {
   "cell_type": "code",
   "execution_count": 8,
   "metadata": {},
   "outputs": [],
   "source": [
    "#Get Data\n",
    "SP = yf.Ticker(\"^GSPC\")\n",
    "N225 = yf.Ticker(\"^N225\")\n",
    "SSE = yf.Ticker(\"^SSEC\")\n",
    "HS = yf.Ticker(\"^HSI\")\n",
    "Eur = yf.Ticker(\"^STOXX\")\n",
    "vix = yf.Ticker(\"^VIX\")\n",
    "T10 = yf.Ticker(\"^TNX\")\n",
    "T5 = yf.Ticker(\"^FVX\")\n",
    "T30 = yf.Ticker(\"^TYX\")\n",
    "#Get Data\n",
    "SPHist = SP.history(period=\"20y\")\n",
    "N225Hist = N225.history(period=\"20y\")\n",
    "SSEHist = SSE.history(period=\"20y\")\n",
    "HSHist = HS.history(period=\"20y\")\n",
    "EurHist = Eur.history(period=\"20y\")\n",
    "vixHist = vix.history(period=\"20y\")\n",
    "T5Hist = T5.history(period=\"20y\")\n",
    "T10Hist = T10.history(period=\"20y\")\n",
    "T30Hist = T30.history(period=\"20y\")\n",
    "#Get closing data\n",
    "SPClose = SPHist['Close']\n",
    "N225Close = N225Hist['Close']\n",
    "SSEClose = SSEHist['Close']\n",
    "HSClose = HSHist['Close']\n",
    "EurClose = EurHist['Close']\n",
    "vixClose = vixHist['Close']\n",
    "T5Close = T5Hist['Close']\n",
    "T10Close = T10Hist['Close']\n",
    "T30Close = T30Hist['Close']\n",
    "#Calculate Daily Returns\n",
    "SPRet = SPClose.pct_change()\n",
    "N225Ret = N225Close.pct_change()\n",
    "SSERet = SSEClose.pct_change()\n",
    "HSRet = HSClose.pct_change()\n",
    "EurRet = EurClose.pct_change()\n",
    "vixRet = vixClose.pct_change()\n",
    "T5Ret = T10Close.pct_change()\n",
    "T10Ret = T10Close.pct_change()\n",
    "T30Ret = T30Close.pct_change()"
   ]
  },
  {
   "cell_type": "code",
   "execution_count": 3,
   "metadata": {},
   "outputs": [],
   "source": [
    "#Reshape index returns\n",
    "SPRet = SPRet.to_frame()\n",
    "SPRet.columns = ['SP']\n",
    "SPRet = SPRet.reset_index()\n",
    "N225Ret = N225Ret.to_frame()\n",
    "N225Ret.columns = ['N225']\n",
    "N225Ret = N225Ret.reset_index()\n",
    "SSERet = SSERet.to_frame()\n",
    "SSERet.columns = ['SSE']\n",
    "SSERet = SSERet.reset_index()\n",
    "HSRet = HSRet.to_frame()\n",
    "HSRet.columns = ['HS']\n",
    "HSERet = HSRet.reset_index()\n",
    "EurRet = EurRet.to_frame()\n",
    "EurRet.columns = ['Eur']\n",
    "EurRet = EurRet.reset_index()\n",
    "vixRet = vixRet.to_frame()\n",
    "vixRet.columns = ['VIX']\n",
    "vixRet = vixRet.reset_index()\n",
    "T5Ret = T5Ret.to.frame()\n",
    "T5Ret.columns = ['T5']\n",
    "T5Ret = T10Ret.reset_index()\n",
    "T10Ret = T10Ret.to.frame()\n",
    "T10Ret.columns = ['T10']\n",
    "T10Ret = T10Ret.reset_index()\n",
    "T30Ret = T30Ret.to.frame()\n",
    "T30Ret.columns = ['T30']\n",
    "T30Ret = T30Ret.reset_index()"
   ]
  },
  {
   "cell_type": "code",
   "execution_count": 9,
   "metadata": {},
   "outputs": [],
   "source": [
    "#Merge frames and drop dates where returns don't exist (NaN)\n",
    "data_frames = [SPRet, N225Ret, SSERet, HSRet,EurRet,vixRet, T5Ret, T10Ret, T30Ret]\n",
    "df_merged = reduce(lambda  left,right: pd.merge(left,right,on=['Date'],\n",
    "                                            how='outer'), data_frames)\n",
    "indexRet = df_merged.dropna()"
   ]
  },
  {
   "cell_type": "code",
   "execution_count": 10,
   "metadata": {},
   "outputs": [],
   "source": [
    "#Save CSV of returns\n",
    "IndexDataCSV = indexRet.to_csv (r'C:\\Users\\gregb\\OneDrive\\Python\\IndexChange.csv', index = True, header=True)"
   ]
  },
  {
   "cell_type": "code",
   "execution_count": 54,
   "metadata": {},
   "outputs": [],
   "source": []
  },
  {
   "cell_type": "code",
   "execution_count": 56,
   "metadata": {},
   "outputs": [
    {
     "data": {
      "text/plain": [
       "1       1999-10-14 00:00:00\n",
       "2       1999-10-15 00:00:00\n",
       "4       1999-10-19 00:00:00\n",
       "5       1999-10-20 00:00:00\n",
       "6       1999-10-21 00:00:00\n",
       "               ...         \n",
       "4492             -0.0039817\n",
       "4493             0.00824569\n",
       "4495             0.00157394\n",
       "4496            -0.00117288\n",
       "5031              0.0352029\n",
       "Length: 22938, dtype: object"
      ]
     },
     "execution_count": 56,
     "metadata": {},
     "output_type": "execute_result"
    }
   ],
   "source": []
  },
  {
   "cell_type": "code",
   "execution_count": null,
   "metadata": {},
   "outputs": [],
   "source": []
  }
 ],
 "metadata": {
  "kernelspec": {
   "display_name": "Python 3",
   "language": "python",
   "name": "python3"
  },
  "language_info": {
   "codemirror_mode": {
    "name": "ipython",
    "version": 3
   },
   "file_extension": ".py",
   "mimetype": "text/x-python",
   "name": "python",
   "nbconvert_exporter": "python",
   "pygments_lexer": "ipython3",
   "version": "3.7.3"
  }
 },
 "nbformat": 4,
 "nbformat_minor": 2
}
